{
  "nbformat": 4,
  "nbformat_minor": 0,
  "metadata": {
    "colab": {
      "name": "Copy of Exercise 3 - Question.ipynb",
      "provenance": [],
      "collapsed_sections": [],
      "include_colab_link": true
    },
    "kernelspec": {
      "display_name": "Python 3",
      "name": "python3"
    },
    "accelerator": "GPU"
  },
  "cells": [
    {
      "cell_type": "markdown",
      "metadata": {
        "id": "view-in-github",
        "colab_type": "text"
      },
      "source": [
        "<a href=\"https://colab.research.google.com/github/MehakJet/justconjecture/blob/MachineLearning-Foundations/Copy_of_Exercise_3_Question.ipynb\" target=\"_parent\"><img src=\"https://colab.research.google.com/assets/colab-badge.svg\" alt=\"Open In Colab\"/></a>"
      ]
    },
    {
      "cell_type": "code",
      "metadata": {
        "id": "zX4Kg8DUTKWO",
        "colab_type": "code",
        "colab": {}
      },
      "source": [
        "#@title Licensed under the Apache License, Version 2.0 (the \"License\");\n",
        "# you may not use this file except in compliance with the License.\n",
        "# You may obtain a copy of the License at\n",
        "#\n",
        "# https://www.apache.org/licenses/LICENSE-2.0\n",
        "#\n",
        "# Unless required by applicable law or agreed to in writing, software\n",
        "# distributed under the License is distributed on an \"AS IS\" BASIS,\n",
        "# WITHOUT WARRANTIES OR CONDITIONS OF ANY KIND, either express or implied.\n",
        "# See the License for the specific language governing permissions and\n",
        "# limitations under the License."
      ],
      "execution_count": null,
      "outputs": []
    },
    {
      "cell_type": "markdown",
      "metadata": {
        "colab_type": "text",
        "id": "iQjHqsmTAVLU"
      },
      "source": [
        "## Exercise 3\n",
        "In the videos you looked at how you would improve Fashion MNIST using Convolutions. For your exercise see if you can improve MNIST to 99.8% accuracy or more using only a single convolutional layer and a single MaxPooling 2D. You should stop training once the accuracy goes above this amount. It should happen in less than 20 epochs, so it's ok to hard code the number of epochs for training, but your training must end once it hits the above metric. If it doesn't, then you'll need to redesign your layers.\n",
        "\n",
        "I've started the code for you -- you need to finish it!\n",
        "\n",
        "When 99.8% accuracy has been hit, you should print out the string \"Reached 99.8% accuracy so cancelling training!\"\n"
      ]
    },
    {
      "cell_type": "code",
      "metadata": {
        "colab_type": "code",
        "id": "sfQRyaJWAIdg",
        "colab": {
          "base_uri": "https://localhost:8080/",
          "height": 381
        },
        "outputId": "06b915e2-f167-4982-ca64-770f7fbd8627"
      },
      "source": [
        "import tensorflow as tf\n",
        "\n",
        "# YOUR CODE STARTS HERE\n",
        "class myCallback(tf.keras.callbacks.Callback):\n",
        "  def on_epoch_end(self,epoch,logs={}):\n",
        "    if(logs.get('accuracy')>0.998):\n",
        "      print(\"\\Reached 99.8% accuracy so cancelling training!\")\n",
        "      self.model.stop_training = True\n",
        "# YOUR CODE ENDS HERE\n",
        "\n",
        "mnist = tf.keras.datasets.mnist\n",
        "(training_images, training_labels), (test_images, test_labels) = mnist.load_data()\n",
        "\n",
        "# YOUR CODE STARTS HERE\n",
        "callbacks = myCallback()\n",
        "(x_train, y_train),(x_test, y_test) = mnist.load_data()\n",
        "\n",
        "x_train = x_train.reshape(60000,28,28,1)\n",
        "x_train = x_train/255.0\n",
        "\n",
        "x_test = x_test.reshape(10000,28,28,1)\n",
        "x_test = x_test/255.0\n",
        "\n",
        "# YOUR CODE ENDS HERE\n",
        "\n",
        "model = tf.keras.models.Sequential([\n",
        "    # YOUR CODE STARTS HERE\n",
        "    tf.keras.layers.Conv2D(32,(3,3),activation = 'relu',input_shape=(28,28,1)),\n",
        "    tf.keras.layers.MaxPooling2D(2,2),\n",
        "    tf.keras.layers.Conv2D(64, (3,3), activation='relu'),\n",
        "    tf.keras.layers.MaxPooling2D(2,2),\n",
        "    tf.keras.layers.Flatten(),\n",
        "    tf.keras.layers.Dense(128, activation='relu'),\n",
        "    tf.keras.layers.Dense(10, activation='softmax')\n",
        "])\n",
        "    # YOUR CODE ENDS HERE\n",
        "\n",
        "# YOUR CODE STARTS HERE\n",
        "model.compile(optimizer='adam', loss='sparse_categorical_crossentropy', metrics=['accuracy'])\n",
        "model.fit(x_train, y_train, epochs=15, callbacks=[callbacks])\n",
        "test_loss, test_acc = model.evaluate(x_test, y_test)\n",
        "print(test_acc)\n",
        "# YOUR CODE ENDS HERE\n"
      ],
      "execution_count": null,
      "outputs": [
        {
          "output_type": "stream",
          "text": [
            "Epoch 1/15\n",
            "1875/1875 [==============================] - 5s 2ms/step - loss: 0.1253 - accuracy: 0.9620\n",
            "Epoch 2/15\n",
            "1875/1875 [==============================] - 5s 2ms/step - loss: 0.0411 - accuracy: 0.9878\n",
            "Epoch 3/15\n",
            "1875/1875 [==============================] - 5s 2ms/step - loss: 0.0274 - accuracy: 0.9913\n",
            "Epoch 4/15\n",
            "1875/1875 [==============================] - 5s 2ms/step - loss: 0.0193 - accuracy: 0.9940\n",
            "Epoch 5/15\n",
            "1875/1875 [==============================] - 5s 2ms/step - loss: 0.0154 - accuracy: 0.9948\n",
            "Epoch 6/15\n",
            "1875/1875 [==============================] - 5s 2ms/step - loss: 0.0100 - accuracy: 0.9966\n",
            "Epoch 7/15\n",
            "1875/1875 [==============================] - 5s 2ms/step - loss: 0.0088 - accuracy: 0.9973\n",
            "Epoch 8/15\n",
            "1875/1875 [==============================] - 5s 2ms/step - loss: 0.0087 - accuracy: 0.9968\n",
            "Epoch 9/15\n",
            "1860/1875 [============================>.] - ETA: 0s - loss: 0.0054 - accuracy: 0.9982\\Reached 99.8% accuracy so cancelling training!\n",
            "1875/1875 [==============================] - 5s 2ms/step - loss: 0.0056 - accuracy: 0.9982\n",
            "313/313 [==============================] - 1s 2ms/step - loss: 0.0481 - accuracy: 0.9883\n",
            "0.9883000254631042\n"
          ],
          "name": "stdout"
        }
      ]
    }
  ]
}